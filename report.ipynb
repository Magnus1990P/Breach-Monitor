{
 "cells": [
  {
   "cell_type": "markdown",
   "metadata": {},
   "source": [
    "# Generate Excel report and bar chart"
   ]
  },
  {
   "cell_type": "code",
   "execution_count": null,
   "metadata": {},
   "outputs": [],
   "source": [
    "import json\n",
    "import pandas as pd\n",
    "\n",
    "with open(\"data/monitored_emails.json\") as fh:\n",
    "    emails = json.load(fh)\n",
    "with open(\"data/breach_information.json\") as fh:\n",
    "    breaches = json.load(fh)\n",
    "\n",
    "user_info_tags = [\"Email addresses\", \"Names\", \"Usernames\", \"Phone numbers\", \"Social media profiles\"]\n",
    "credential_tags = [\"Passwords\", \"Auth tokens\", \"Password hints\", \"Email messages\", \"Survey results\", \"Website activity\"]\n",
    "\n",
    "combined = []\n",
    "for email, data in emails.items():\n",
    "    for breach in data[\"breaches\"]:\n",
    "        data = {\n",
    "                \"Account\": email,\n",
    "                \"AccountName\": email[:email.rfind(\"@\")],\n",
    "                \"AccountDoman\": email[email.rfind(\"@\")+1:],\n",
    "                \"BreachTitle\": breaches[breach][\"Title\"],\n",
    "                \"BreachDate\": breaches[breach][\"BreachDate\"],\n",
    "                \"Domain\": breaches[breach][\"Domain\"],\n",
    "                \"LeakedUserInfo\": \", \".join([item for item in breaches[breach][\"DataClasses\"] if item in user_info_tags]),\n",
    "                \"LeakedCredentials\": \", \".join([item for item in breaches[breach][\"DataClasses\"] if item in credential_tags]),\n",
    "                \"Verified\": breaches[breach][\"IsVerified\"],\n",
    "                \"CompromisedData\": \", \".join(breaches[breach][\"DataClasses\"]),\n",
    "                \"IsSpamList\": breaches[breach][\"IsSpamList\"],\n",
    "                \"IsSensitive\": breaches[breach][\"IsSensitive\"],\n",
    "                \"IsMalware\": breaches[breach][\"IsMalware\"]\n",
    "        }\n",
    "        combined.append(data)\n",
    "\n",
    "df = pd.DataFrame(combined)\n",
    "df2 = pd.DataFrame(breaches).T\n",
    "\n",
    "with pd.ExcelWriter(\"Compromised account report.xlsx\") as writer: \n",
    "    df.to_excel(writer, sheet_name=\"CompromisedAccounts\", index=False)\n",
    "    fname = input(\"Filepath of previous report: \")\n",
    "    previous = None\n",
    "    try:\n",
    "        previous = pd.read_excel(fname).T.to_dict()\n",
    "    except:\n",
    "        print(\"Failed to load previous file, skipping\")\n",
    "    if previous:\n",
    "        prev_index = {f\"{previous[idx]['Account']}_{previous[idx]['BreachTitle']}\":idx for idx in previous}\n",
    "        new_findings = []\n",
    "        for acct in combined:\n",
    "            search_term = f\"{acct['Account']}_{acct['BreachTitle']}\"\n",
    "            if search_term not in prev_index:\n",
    "                new_findings.append(acct)\n",
    "        df_new = pd.DataFrame(new_findings)\n",
    "        if not df_new.empty:\n",
    "            df_new.to_excel(writer, sheet_name=\"Changes\", index=False)\n",
    "    \n",
    "    df2[[\"Title\", \"Domain\", \"BreachDate\", \"PwnCount\", \n",
    "        \"DataClasses\", \"IsVerified\", \"IsFabricated\", \"IsSensitive\", \n",
    "        \"IsRetired\", \"IsSpamList\", \"IsMalware\", \"KIT_NOTIFICATION\", \"Description\"]].to_excel(writer, sheet_name=\"BreachInfo\", index=False)\n",
    "    \n",
    "sel = [False if not val else True for val in df.LeakedCredentials]"
   ]
  },
  {
   "cell_type": "code",
   "execution_count": null,
   "metadata": {},
   "outputs": [],
   "source": [
    "for account in df[df.BreachTitle==\"Internet Archive\"].Account.unique().tolist():\n",
    "    print(account)"
   ]
  },
  {
   "cell_type": "code",
   "execution_count": null,
   "metadata": {},
   "outputs": [],
   "source": [
    "df[sel].groupby(\"BreachTitle\").BreachTitle.count().sort_values().plot(kind=\"barh\", figsize=(20,15))"
   ]
  },
  {
   "cell_type": "code",
   "execution_count": null,
   "metadata": {},
   "outputs": [],
   "source": [
    "df[sel].groupby(\"BreachTitle\").BreachTitle.count().sort_values().plot(kind=\"barh\", figsize=(20,15))"
   ]
  },
  {
   "cell_type": "code",
   "execution_count": null,
   "metadata": {},
   "outputs": [],
   "source": [
    "from app.monitor import create_table\n",
    "from requests import post\n",
    "\n",
    "ACCOUNT = input(\"Email account to generate notice for\")\n",
    "REPORTER = input(\"Reporter navn:\", \"Sikkerhetsavdelingen\")\n",
    "DOMAIN = input(\"Fresh service domain\", \"\")\n",
    "if DOMAIN:\n",
    "    TICKET = input(\"Fresh ticket id\")\n",
    "    KEY = input(\"Fresh API key\")\n",
    "\n",
    "if ACCOUNT and ACCOUNT in emails:\n",
    "    LEAKS = create_table(breaches=breaches, findings=emails[\"DOMAIN\"][\"breaches\"])\n",
    "    notice = f\"\"\"Hei.<br />\n",
    "Din brukerkonto med epost, <b>{ACCOUNT}</b>, har blitt oppdaget i en datalekkasje og det er sterkt anmodet å bytte passord på denne brukerkontoen snarest mulig.<br />\n",
    "Hvis du også har <b>gjenbrukt passordet</b> på flere tjenester må disse også skiftes da passordet kan være eksponert.<br /><br />\n",
    "Epost-adressen er funnet i lekkasjer for følgende tjenester. Dette betyr at tjenesten har enten utilsiktet publisert data offentlig eller blitt kompromittert av trusselaktører, med det resultat at dine data har blitt offentligjort.<br />\n",
    "Under finner du informasjonen med beskrivelser av hva som har skjedd og hva som er eksponert.<br />\n",
    "{LEAKS}\n",
    "<br />\n",
    "For mer info eller spørsmål kan du svare på denne saken.<br />\n",
    "Med vennlig hilsen {REPORTER}\"\"\"\n",
    "    with open(\"temp_notice.html\", \"w\") as fhtml:\n",
    "        fhtml.write(notice)\n",
    "    if KEY:\n",
    "        request = post(f\"https://{DOMAIN}/api/v2/tickets/{TICKET}/reply\",\n",
    "            json={\"body\": notice},\n",
    "            headers={\"authorization\": f\"Basic {KEY}\"})\n",
    "        print(request.status_code, request.content)\n",
    "else:\n",
    "    print(f\"Email: '{ACCOUNT}' did not appear in the email list\")"
   ]
  }
 ],
 "metadata": {
  "kernelspec": {
   "display_name": "venv",
   "language": "python",
   "name": "python3"
  },
  "language_info": {
   "codemirror_mode": {
    "name": "ipython",
    "version": 3
   },
   "file_extension": ".py",
   "mimetype": "text/x-python",
   "name": "python",
   "nbconvert_exporter": "python",
   "pygments_lexer": "ipython3",
   "version": "3.11.2"
  }
 },
 "nbformat": 4,
 "nbformat_minor": 2
}
