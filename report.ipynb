{
 "cells": [
  {
   "cell_type": "markdown",
   "metadata": {},
   "source": [
    "# Generate Excel report and bar chart"
   ]
  },
  {
   "cell_type": "code",
   "execution_count": null,
   "metadata": {},
   "outputs": [],
   "source": [
    "import json\n",
    "import pandas as pd\n",
    "\n",
    "with open(\"data/monitored_emails.json\") as fh:\n",
    "    emails = json.load(fh)\n",
    "with open(\"data/breach_information.json\") as fh:\n",
    "    breaches = json.load(fh)\n",
    "\n",
    "user_info_tags = [\"Email addresses\", \"Names\", \"Usernames\", \"Phone numbers\", \"Social media profiles\"]\n",
    "credential_tags = [\"Passwords\", \"Auth tokens\", \"Password hints\", \"Email messages\", \"Survey results\", \"Website activity\"]\n",
    "\n",
    "combined = []\n",
    "for email, data in emails.items():\n",
    "    for breach in data[\"breaches\"]:\n",
    "        data = {\n",
    "                \"Account\": email,\n",
    "                \"AccountName\": email[:email.rfind(\"@\")],\n",
    "                \"AccountDoman\": email[email.rfind(\"@\")+1:],\n",
    "                \"BreachTitle\": breaches[breach][\"Title\"],\n",
    "                \"BreachDate\": breaches[breach][\"BreachDate\"],\n",
    "                \"Domain\": breaches[breach][\"Domain\"],\n",
    "                \"LeakedUserInfo\": \", \".join([item for item in breaches[breach][\"DataClasses\"] if item in user_info_tags]),\n",
    "                \"LeakedCredentials\": \", \".join([item for item in breaches[breach][\"DataClasses\"] if item in credential_tags]),\n",
    "                \"Verified\": breaches[breach][\"IsVerified\"],\n",
    "                \"CompromisedData\": \", \".join(breaches[breach][\"DataClasses\"]),\n",
    "                \"IsSpamList\": breaches[breach][\"IsSpamList\"],\n",
    "                \"IsSensitive\": breaches[breach][\"IsSensitive\"],\n",
    "                \"IsMalware\": breaches[breach][\"IsMalware\"]\n",
    "        }\n",
    "        combined.append(data)\n",
    "\n",
    "df = pd.DataFrame(combined)\n",
    "df2 = pd.DataFrame(breaches).T\n",
    "\n",
    "with pd.ExcelWriter(\"Compromised account report.xlsx\") as writer: \n",
    "    df.to_excel(writer, sheet_name=\"CompromisedAccounts\", index=False)\n",
    "    fname = input(\"Filepath of previous report: \")\n",
    "    try:\n",
    "        previous = pd.read_excel(fname).T.to_dict()\n",
    "        prev_index = {f\"{previous[idx]['Account']}_{previous[idx]['BreachTitle']}\":idx for idx in previous}\n",
    "        new_findings = []\n",
    "        for acct in combined:\n",
    "            search_term = f\"{acct['Account']}_{acct['BreachTitle']}\"\n",
    "            if search_term not in prev_index:\n",
    "                new_findings.append(acct)\n",
    "        df_new = pd.DataFrame(new_findings)\n",
    "        if not df_new.empty:\n",
    "            df_new.to_excel(writer, sheet_name=\"Changes\", index=False)\n",
    "    except:\n",
    "        print(\"Failed to load previous file, skipping\")\n",
    "    \n",
    "    df2[[\"Title\", \"Domain\", \"BreachDate\", \"PwnCount\", \n",
    "        \"DataClasses\", \"IsVerified\", \"IsFabricated\", \"IsSensitive\", \n",
    "        \"IsRetired\", \"IsSpamList\", \"IsMalware\", \"KIT_NOTIFICATION\", \"Description\"]].to_excel(writer, sheet_name=\"BreachInfo\", index=False)"
   ]
  },
  {
   "cell_type": "code",
   "execution_count": null,
   "metadata": {},
   "outputs": [],
   "source": [
    "df\n",
    "sel = [False if not val else True for val in df.LeakedCredentials]\n",
    "df[sel].groupby(\"BreachTitle\").BreachTitle.count().plot(kind=\"barh\", figsize=(20,15))"
   ]
  }
 ],
 "metadata": {
  "kernelspec": {
   "display_name": "Python 3",
   "language": "python",
   "name": "python3"
  },
  "language_info": {
   "codemirror_mode": {
    "name": "ipython",
    "version": 3
   },
   "file_extension": ".py",
   "mimetype": "text/x-python",
   "name": "python",
   "nbconvert_exporter": "python",
   "pygments_lexer": "ipython3",
   "version": "3.10.12"
  }
 },
 "nbformat": 4,
 "nbformat_minor": 2
}
